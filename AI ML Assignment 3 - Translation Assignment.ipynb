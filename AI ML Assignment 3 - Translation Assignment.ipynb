{
 "cells": [
  {
   "cell_type": "code",
   "execution_count": 2,
   "id": "a4830707",
   "metadata": {},
   "outputs": [
    {
     "name": "stdout",
     "output_type": "stream",
     "text": [
      "Collecting googletrans==3.1.0a0\n",
      "  Using cached googletrans-3.1.0a0.tar.gz (19 kB)\n",
      "Collecting httpx==0.13.3\n",
      "  Using cached httpx-0.13.3-py3-none-any.whl (55 kB)\n",
      "Collecting rfc3986<2,>=1.3\n",
      "  Using cached rfc3986-1.5.0-py2.py3-none-any.whl (31 kB)\n",
      "Collecting hstspreload\n",
      "  Using cached hstspreload-2023.1.1-py3-none-any.whl (1.5 MB)\n",
      "Requirement already satisfied: certifi in c:\\users\\poorn\\anaconda3\\lib\\site-packages (from httpx==0.13.3->googletrans==3.1.0a0) (2020.12.5)\n",
      "Collecting chardet==3.*\n",
      "  Using cached chardet-3.0.4-py2.py3-none-any.whl (133 kB)\n",
      "Requirement already satisfied: sniffio in c:\\users\\poorn\\anaconda3\\lib\\site-packages (from httpx==0.13.3->googletrans==3.1.0a0) (1.2.0)\n",
      "Requirement already satisfied: idna==2.* in c:\\users\\poorn\\anaconda3\\lib\\site-packages (from httpx==0.13.3->googletrans==3.1.0a0) (2.10)\n",
      "Collecting httpcore==0.9.*\n",
      "  Using cached httpcore-0.9.1-py3-none-any.whl (42 kB)\n",
      "Collecting h2==3.*\n",
      "  Using cached h2-3.2.0-py2.py3-none-any.whl (65 kB)\n",
      "Collecting h11<0.10,>=0.8\n",
      "  Using cached h11-0.9.0-py2.py3-none-any.whl (53 kB)\n",
      "Collecting hpack<4,>=3.0\n",
      "  Using cached hpack-3.0.0-py2.py3-none-any.whl (38 kB)\n",
      "Collecting hyperframe<6,>=5.2.0\n",
      "  Using cached hyperframe-5.2.0-py2.py3-none-any.whl (12 kB)\n",
      "Building wheels for collected packages: googletrans\n",
      "  Building wheel for googletrans (setup.py): started\n",
      "  Building wheel for googletrans (setup.py): finished with status 'done'\n",
      "  Created wheel for googletrans: filename=googletrans-3.1.0a0-py3-none-any.whl size=16368 sha256=e9b6d7fefb8e1d5927f073049604ca71dcaff85cfc81bdb6b78c798b7458ad7b\n",
      "  Stored in directory: c:\\users\\poorn\\appdata\\local\\pip\\cache\\wheels\\dd\\59\\af\\8d6c96a719763990f1c548e36b17d9efdfb767f42f7ff39f53\n",
      "Successfully built googletrans\n",
      "Installing collected packages: hyperframe, hpack, h2, h11, rfc3986, httpcore, hstspreload, chardet, httpx, googletrans\n",
      "  Attempting uninstall: chardet\n",
      "    Found existing installation: chardet 4.0.0\n",
      "    Uninstalling chardet-4.0.0:\n",
      "      Successfully uninstalled chardet-4.0.0\n",
      "Successfully installed chardet-3.0.4 googletrans-3.1.0a0 h11-0.9.0 h2-3.2.0 hpack-3.0.0 hstspreload-2023.1.1 httpcore-0.9.1 httpx-0.13.3 hyperframe-5.2.0 rfc3986-1.5.0\n",
      "Note: you may need to restart the kernel to use updated packages.\n"
     ]
    },
    {
     "name": "stderr",
     "output_type": "stream",
     "text": [
      "ERROR: pip's dependency resolver does not currently take into account all the packages that are installed. This behaviour is the source of the following dependency conflicts.\n",
      "spyder 4.2.5 requires pyqt5<5.13, which is not installed.\n",
      "spyder 4.2.5 requires pyqtwebengine<5.13, which is not installed.\n",
      "conda-repo-cli 1.0.4 requires pathlib, which is not installed.\n",
      "anaconda-project 0.9.1 requires ruamel-yaml, which is not installed.\n"
     ]
    }
   ],
   "source": [
    "pip install googletrans==3.1.0a0"
   ]
  },
  {
   "cell_type": "markdown",
   "id": "e66d30e8",
   "metadata": {},
   "source": [
    "# What & Why am I doing via this code?"
   ]
  },
  {
   "cell_type": "markdown",
   "id": "ca6f3e12",
   "metadata": {},
   "source": [
    "The aim of the code is to translate in a better way so that the output should be in a language that we talk in daily basis which is a mix of local language + english ( hindi + eng in this case). \n",
    "\n",
    "If this translation is sucessfull, we can impliement this using AI for the auto caption generation in the social media sites that use video streaming. \n",
    "\n",
    "I know we are annoyed by the hindi captions on the english video that fetches words we doesnt even know and words we dont use in daily basis even though they are hindi words."
   ]
  },
  {
   "cell_type": "markdown",
   "id": "ab575d01",
   "metadata": {},
   "source": [
    "I am trying two different codes here with an aim to convert english to any of the local languages of India ( its hindi in this case) such that the translation should not be creepy with pure word to word meaning derived sentences. "
   ]
  },
  {
   "cell_type": "markdown",
   "id": "cb28f61a",
   "metadata": {},
   "source": [
    "# How does the code-1 work?"
   ]
  },
  {
   "cell_type": "markdown",
   "id": "8a702e8a",
   "metadata": {},
   "source": [
    "The code uses python which has a wide range lof rich libraries that comes handy while developing programs.\n",
    "Here I am using the 'googletrans' module which provides a simple API for translating text between languages. \n",
    "\n",
    "Lets define a function called translate_sentence(), which takes an English sentence as input and returns the translated sentence in Hindi. \n",
    "\n",
    "The function uses the Translator() class from the googletrans module to do the translation.\n",
    "\n",
    "Lets add a try-except block to the translate_sentence() function. The try block tries to translate the sentence and return the translated sentence. \n",
    "\n",
    "This step is to return the english word as it is if the function cant find any exact hindi meaning for a word. for example, DEMO should return as it is. This is because the googletrans module does not have a translation for the word \"demo\" in Hindi. In this case, the program will simply return the English word as it is.\n",
    "\n",
    "The except block catches any exceptions that are raised, and it returns the original English sentence.\n",
    "\n",
    "The main function of the program prompts the user to enter an English sentence. It then calls the translate_sentence() function to translate the sentence and prints the translated sentence.\n",
    "\n"
   ]
  },
  {
   "cell_type": "code",
   "execution_count": 1,
   "id": "471cae74",
   "metadata": {},
   "outputs": [
    {
     "name": "stdout",
     "output_type": "stream",
     "text": [
      "Enter an English sentence: I had about a 30 minute demo just using this new headset\n",
      "The translation of 'I had about a 30 minute demo just using this new headset' in Hindi is: 'मैंने इस नए हेडसेट का उपयोग करके लगभग 30 मिनट का डेमो लिया'\n"
     ]
    }
   ],
   "source": [
    "import googletrans\n",
    "\n",
    "def translate_sentence(sentence, to_lang=\"hi\"):\n",
    "  translator = googletrans.Translator()\n",
    "  translated_sentence = translator.translate(sentence, dest=to_lang)\n",
    "  try:\n",
    "    return translated_sentence.text\n",
    "  except:\n",
    "    return sentence\n",
    "\n",
    "if __name__ == \"__main__\":\n",
    "  sentence = input(\"Enter an English sentence: \")\n",
    "  translated_sentence = translate_sentence(sentence)\n",
    "  print(f\"The translation of '{sentence}' in Hindi is: '{translated_sentence}'\")\n"
   ]
  },
  {
   "cell_type": "markdown",
   "id": "729f5750",
   "metadata": {},
   "source": [
    "# How does the code 2 work?"
   ]
  },
  {
   "cell_type": "markdown",
   "id": "e7d496c1",
   "metadata": {},
   "source": [
    "This code works the same as the previous code, but it adds a few more checks to the translate_sentence() function.\n",
    "\n",
    "First, it checks if the translation is not None and not empty, that is if it fails to find an exact translated word or not. \n",
    "\n",
    "If the translation is None or empty that is, if it failed to find the exact hindi word, then the function returns the English word.\n",
    "\n",
    "Second, the function checks if there is an error. If there is an error, then the function also returns the English word.\n",
    "\n",
    "This ensures that the function will always return the English word if the Googletrans module cannot find an exact Hindi meaning for the word."
   ]
  },
  {
   "cell_type": "code",
   "execution_count": 2,
   "id": "e9fbf1fd",
   "metadata": {},
   "outputs": [
    {
     "name": "stdout",
     "output_type": "stream",
     "text": [
      "Enter an English sentence: I had about a 30 minute demo just using this new headset\n",
      "The translation of 'I had about a 30 minute demo just using this new headset' in Hindi is: 'मैंने इस नए हेडसेट का उपयोग करके लगभग 30 मिनट का डेमो लिया'\n"
     ]
    }
   ],
   "source": [
    "import googletrans\n",
    "\n",
    "def translate_sentence(sentence, to_lang=\"hi\"):\n",
    "  translator = googletrans.Translator()\n",
    "  translated_sentence = translator.translate(sentence, dest=to_lang)\n",
    "\n",
    "  try:\n",
    "    if translated_sentence and translated_sentence.text: # Check if the translation is not None and not empty\n",
    "      return translated_sentence.text \n",
    "    else: # If the translation is None or empty, return the English word\n",
    "      return sentence\n",
    "\n",
    "  except:\n",
    "    return sentence # Return the English word if there is an error\n",
    "\n",
    "if __name__ == \"__main__\":\n",
    "  sentence = input(\"Enter an English sentence: \")\n",
    "  translated_sentence = translate_sentence(sentence)\n",
    "  print(f\"The translation of '{sentence}' in Hindi is: '{translated_sentence}'\")\n"
   ]
  },
  {
   "cell_type": "code",
   "execution_count": 5,
   "id": "3f6ddc62",
   "metadata": {},
   "outputs": [
    {
     "name": "stdout",
     "output_type": "stream",
     "text": [
      "Enter an English sentence: 1.Definitely share your feedback in the comment section. 2. So even if it's a big video, I will clearly mention all the products. 3. I was waiting for my bag.\n",
      "The translation of '1.Definitely share your feedback in the comment section. 2. So even if it's a big video, I will clearly mention all the products. 3. I was waiting for my bag.' in Hindi is: '1.कमेंट सेक्शन में अपना फीडबैक जरूर शेयर करें। 2. तो भले ही यह एक बड़ा वीडियो हो, मैं स्पष्ट रूप से सभी उत्पादों का उल्लेख करूंगा। 3. मैं अपने बैग का इंतजार कर रहा था।'\n"
     ]
    }
   ],
   "source": [
    "#trying all the 3 sentences given\n",
    "\n",
    "import googletrans\n",
    "\n",
    "def translate_sentence(sentence, to_lang=\"hi\"):\n",
    "  translator = googletrans.Translator()\n",
    "  translated_sentence = translator.translate(sentence, dest=to_lang)\n",
    "\n",
    "  try:\n",
    "    if translated_sentence and translated_sentence.text: # Check if the translation is not None and not empty\n",
    "      return translated_sentence.text \n",
    "    else: # If the translation is None or empty, return the English word\n",
    "      return sentence\n",
    "\n",
    "  except:\n",
    "    return sentence # Return the English word if there is an error\n",
    "\n",
    "if __name__ == \"__main__\":\n",
    "  sentence = input(\"Enter an English sentence: \")\n",
    "  translated_sentence = translate_sentence(sentence)\n",
    "  print(f\"The translation of '{sentence}' in Hindi is: '{translated_sentence}'\")\n"
   ]
  },
  {
   "cell_type": "markdown",
   "id": "e6dc6074",
   "metadata": {},
   "source": [
    "# Lets try the same code for english to telugu ( Tinglish) translation."
   ]
  },
  {
   "cell_type": "code",
   "execution_count": 6,
   "id": "87149f8a",
   "metadata": {},
   "outputs": [
    {
     "name": "stdout",
     "output_type": "stream",
     "text": [
      "Enter an English sentence: We are proud for 'Natu Natu' song gettings the Oscar award\n",
      "The translation of 'We are proud for 'Natu Natu' song gettings the Oscar award' in Telugu is: ''నాటు నాటు' పాటకు ఆస్కార్ అవార్డు రావడం గర్వంగా ఉంది'\n"
     ]
    }
   ],
   "source": [
    "import googletrans\n",
    "\n",
    "def translate_sentence(sentence, to_lang=\"te\"):\n",
    "  translator = googletrans.Translator()\n",
    "  translated_sentence = translator.translate(sentence, dest=to_lang)\n",
    "\n",
    "  try:\n",
    "\n",
    "    # Check if the translation is not None and not empty\n",
    "    if translated_sentence and translated_sentence.text:\n",
    "\n",
    "      # Return the translation\n",
    "      return translated_sentence.text\n",
    "\n",
    "    # If the translation is None or empty, return the English word\n",
    "    else:\n",
    "      return sentence\n",
    "\n",
    "  except:\n",
    "\n",
    "    # Return the English word if there is an error\n",
    "    return sentence\n",
    "\n",
    "if __name__ == \"__main__\":\n",
    "  sentence = input(\"Enter an English sentence: \")\n",
    "  translated_sentence = translate_sentence(sentence)\n",
    "  print(f\"The translation of '{sentence}' in Telugu is: '{translated_sentence}'\")\n"
   ]
  },
  {
   "cell_type": "code",
   "execution_count": null,
   "id": "e8ed4ee1",
   "metadata": {},
   "outputs": [],
   "source": []
  },
  {
   "cell_type": "code",
   "execution_count": null,
   "id": "850fb9bd",
   "metadata": {},
   "outputs": [],
   "source": []
  },
  {
   "cell_type": "code",
   "execution_count": null,
   "id": "914bb0cc",
   "metadata": {},
   "outputs": [],
   "source": []
  }
 ],
 "metadata": {
  "kernelspec": {
   "display_name": "Python 3",
   "language": "python",
   "name": "python3"
  },
  "language_info": {
   "codemirror_mode": {
    "name": "ipython",
    "version": 3
   },
   "file_extension": ".py",
   "mimetype": "text/x-python",
   "name": "python",
   "nbconvert_exporter": "python",
   "pygments_lexer": "ipython3",
   "version": "3.8.8"
  }
 },
 "nbformat": 4,
 "nbformat_minor": 5
}
